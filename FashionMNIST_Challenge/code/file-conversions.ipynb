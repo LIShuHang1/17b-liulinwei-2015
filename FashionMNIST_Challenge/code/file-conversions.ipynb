{
 "cells": [
  {
   "cell_type": "code",
   "execution_count": 2,
   "metadata": {
    "collapsed": false,
    "deletable": true,
    "editable": true
   },
   "outputs": [
    {
     "name": "stdout",
     "output_type": "stream",
     "text": [
      "Extracting ../data/fashion/train-images-idx3-ubyte.gz\n",
      "Extracting ../data/fashion/train-labels-idx1-ubyte.gz\n",
      "Extracting ../data/fashion/t10k-images-idx3-ubyte.gz\n",
      "Extracting ../data/fashion/t10k-labels-idx1-ubyte.gz\n"
     ]
    }
   ],
   "source": [
    "#将训练集、测试集、验证集转化为TFEcord文件格式\n",
    "import tensorflow as tf\n",
    "import numpy as np\n",
    "\n",
    "from tensorflow.examples.tutorials.mnist import input_data\n",
    "\n",
    "#读取数据\n",
    "data=input_data.read_data_sets('../data/fashion')"
   ]
  },
  {
   "cell_type": "code",
   "execution_count": 3,
   "metadata": {
    "collapsed": false,
    "deletable": true,
    "editable": true
   },
   "outputs": [],
   "source": [
    "#将训练集转化为TFrecord文件\n",
    "#训练数据的图像，可以作为一个属性来存储 \n",
    "img_train = data.train.images\n",
    "#训练数据所对应的正确答案，可以作为一个属性来存储 \n",
    "lab_train = data.train.labels\n",
    "#训练数据的个数  \n",
    "num_train = data.train.num_examples\n",
    "#创建一个write来写TFRecord文件\n",
    "with tf.python_io.TFRecordWriter('train.tfrecords') as writer:\n",
    "    for i in range(num_train):\n",
    "        #把图像矩阵转化为字符串\n",
    "        image_raw = img_train[i].tostring() \n",
    "        example = tf.train.Example(features=tf.train.Features(feature={\n",
    "                    \"label\":tf.train.Feature(int64_list = tf.train.Int64List(value=[lab_train[i]])),\n",
    "                    \"image_raw\":tf.train.Feature(bytes_list = tf.train.BytesList(value=[image_raw]))\n",
    "                                             }))\n",
    "    #将 Example 写入TFRecord文件  \n",
    "        writer.write(example.SerializeToString())"
   ]
  },
  {
   "cell_type": "code",
   "execution_count": 4,
   "metadata": {
    "collapsed": false,
    "deletable": true,
    "editable": true
   },
   "outputs": [],
   "source": [
    "# 将测试集转化为TFrecord文件\n",
    "# 测试数据的图像，可以作为一个属性来存储\n",
    "img_test=data.test.images\n",
    "#测试数据所对应的正确答案，可以作为一个属性来存储\n",
    "lab_test=data.test.labels\n",
    "#测试数据的个数\n",
    "num_test=data.test.num_examples\n",
    "#创建一个write来写TFRecord文件\n",
    "with tf.python_io.TFRecordWriter('test.tfrecords') as writer:\n",
    "    for i in range(num_test):\n",
    "        #把图像矩阵转化为字符串\n",
    "        image_raw = img_test[i].tostring() \n",
    "        example = tf.train.Example(features=tf.train.Features(feature={\n",
    "                    \"label\":tf.train.Feature(int64_list = tf.train.Int64List(value=[lab_test[i]])),\n",
    "                    \"image_raw\":tf.train.Feature(bytes_list = tf.train.BytesList(value=[image_raw]))\n",
    "                                             }))\n",
    "    #将 Example 写入TFRecord文件  \n",
    "        writer.write(example.SerializeToString())"
   ]
  },
  {
   "cell_type": "code",
   "execution_count": 5,
   "metadata": {
    "collapsed": true,
    "deletable": true,
    "editable": true
   },
   "outputs": [],
   "source": [
    "# 将验证集集转化为TFrecord文件\n",
    "# 验证数据的图像，可以作为一个属性来存储\n",
    "img_validation=data.validation.images\n",
    "#验证数据所对应的正确答案，可以作为一个属性来存储\n",
    "lab_validation=data.validation.labels\n",
    "#验证数据的个数\n",
    "num_validation=data.validation.num_examples\n",
    "#创建一个write来写TFRecord文件\n",
    "with tf.python_io.TFRecordWriter('validation.tfrecords') as writer:\n",
    "    for i in range(num_validation):\n",
    "        #把图像矩阵转化为字符串\n",
    "        image_raw = img_validation[i].tostring() \n",
    "        example = tf.train.Example(features=tf.train.Features(feature={\n",
    "                    \"label\":tf.train.Feature(int64_list = tf.train.Int64List(value=[lab_validation[i]])),\n",
    "                    \"image_raw\":tf.train.Feature(bytes_list = tf.train.BytesList(value=[image_raw]))\n",
    "                                             }))\n",
    "    #将 Example 写入TFRecord文件  \n",
    "        writer.write(example.SerializeToString())"
   ]
  },
  {
   "cell_type": "code",
   "execution_count": null,
   "metadata": {
    "collapsed": true,
    "deletable": true,
    "editable": true
   },
   "outputs": [],
   "source": []
  }
 ],
 "metadata": {
  "kernelspec": {
   "display_name": "Python 3",
   "language": "python",
   "name": "python3"
  },
  "language_info": {
   "codemirror_mode": {
    "name": "ipython",
    "version": 3
   },
   "file_extension": ".py",
   "mimetype": "text/x-python",
   "name": "python",
   "nbconvert_exporter": "python",
   "pygments_lexer": "ipython3",
   "version": "3.6.0"
  }
 },
 "nbformat": 4,
 "nbformat_minor": 2
}
