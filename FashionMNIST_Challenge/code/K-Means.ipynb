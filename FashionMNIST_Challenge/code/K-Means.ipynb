{
 "cells": [
  {
   "cell_type": "code",
   "execution_count": 3,
   "metadata": {
    "collapsed": false,
    "deletable": true,
    "editable": true
   },
   "outputs": [
    {
     "name": "stdout",
     "output_type": "stream",
     "text": [
      "Extracting ../data/fashion/train-images-idx3-ubyte.gz\n",
      "Extracting ../data/fashion/train-labels-idx1-ubyte.gz\n",
      "Extracting ../data/fashion/t10k-images-idx3-ubyte.gz\n",
      "Extracting ../data/fashion/t10k-labels-idx1-ubyte.gz\n"
     ]
    },
    {
     "name": "stderr",
     "output_type": "stream",
     "text": [
      "/home/linwei/.virtualenvs/jupyter_env3/lib/python3.6/site-packages/numpy/core/fromnumeric.py:2909: RuntimeWarning: Mean of empty slice.\n",
      "  out=out, **kwargs)\n",
      "/home/linwei/.virtualenvs/jupyter_env3/lib/python3.6/site-packages/numpy/core/_methods.py:73: RuntimeWarning: invalid value encountered in true_divide\n",
      "  ret, rcount, out=ret, casting='unsafe', subok=False)\n"
     ]
    },
    {
     "name": "stdout",
     "output_type": "stream",
     "text": [
      "[[  2.7431438   10.10497379]\n",
      " [  1.0811075   -4.22779703]\n",
      " [  0.64393371   6.42355919]\n",
      " [  0.74329782   2.30190134]\n",
      " [         nan          nan]\n",
      " [ -1.00761807  -1.03102398]\n",
      " [  6.09323072  -1.27415848]\n",
      " [  3.1768806    7.41346979]\n",
      " [  3.96189165   5.76764345]\n",
      " [  2.88838315  -2.17946339]]\n"
     ]
    },
    {
     "data": {
      "image/png": "[encoded data removed]",
      "text/plain": [
       "<matplotlib.figure.Figure at 0x7fa9ee0a49e8>"
      ]
     },
     "metadata": {},
     "output_type": "display_data"
    }
   ],
   "source": [
    "from numpy import *\n",
    "import numpy as np\n",
    "import matplotlib.pyplot as plt\n",
    "from tensorflow.examples.tutorials.mnist import input_data\n",
    "from sklearn.manifold import TSNE    # 降维处理\n",
    "\n",
    "\n",
    "# 欧式距离\n",
    "def calDistance(x1, x2):\n",
    "    return linalg.norm(x1 - x2)\n",
    "\n",
    "\n",
    "# 生成随机聚类中心\n",
    "def initCentroids(dataSet, k):\n",
    "    n = shape(dataSet)[1]\n",
    "    clustercents = mat(zeros((k, n)))  # 初始化聚类中心矩阵：k * n\n",
    "    for col in range(n):\n",
    "        mincol = min(dataSet[:, col])\n",
    "        maxcol = max(dataSet[:, col])\n",
    "\n",
    "        # randoom.rand（k, 1）：产生一个0-1之间的随机数向量；K， 1表示产生k行1列的随机数\n",
    "        clustercents[:, col] = mat(mincol + float(maxcol - mincol) * random.rand(k, 1))\n",
    "    return clustercents\n",
    "\n",
    "\n",
    "def KMeansr(dataSet, k):\n",
    "    m = shape(dataSet)[0]\n",
    "    # 与数据集等长，共两列，第一列：数据集对应的聚类中心k；第二列：数据集到聚类中心的距离\n",
    "    ClustDist = mat(zeros((m, 2)))\n",
    "\n",
    "    clustercents = initCentroids(dataSet, k)\n",
    "    # 标志位\n",
    "    flag = True\n",
    "    while flag:\n",
    "        flag = False\n",
    "        for i in range(m):\n",
    "            distlist = [calDistance(clustercents[j, :], dataSet[i, :]) for j in range(k)]\n",
    "            minDist = min(distlist)\n",
    "            minIndex = distlist.index(minDist)\n",
    "\n",
    "            if ClustDist[i, 0] != minIndex:\n",
    "                flag = True\n",
    "            ClustDist[i, :] = minIndex, minDist\n",
    "\n",
    "        for cent in range(k):\n",
    "            ptsInClust = dataSet[nonzero(ClustDist[:, 0].A == cent)[0]]\n",
    "            clustercents[cent, :] = mean(ptsInClust, axis=0)\n",
    "\n",
    "    return clustercents, ClustDist\n",
    "\n",
    "\n",
    "def show(dataSet, k, clustercents, ClustDist):\n",
    "    numSamples, _ = shape(dataSet)\n",
    "    mark = ['or', 'ob', 'og', 'ok', '^r', '+r', 'sr', 'dr', '<r', 'pr']\n",
    "    for i in range(numSamples):\n",
    "        markIndex = int(ClustDist[i, 0])\n",
    "        plt.plot(dataSet[i, 0], dataSet[i, 1], mark[markIndex])\n",
    "    mark = ['Dr', 'Db', 'Dg', 'Dk', '^b', '+b', 'sb', 'db', '<b', 'pb']\n",
    "    for i in range(k):\n",
    "        plt.plot(clustercents[i, 0], clustercents[i, 1], mark[i], markersize=12)\n",
    "    plt.show()\n",
    "\n",
    "def main():\n",
    "    mnist = input_data.read_data_sets('../data/fashion', one_hot=True)\n",
    "    train_images = mnist.train.images\n",
    "    # print(train_images)\n",
    "    dataMat = TSNE().fit_transform(train_images[:100])\n",
    "    # dataMat = loadtxt('test.txt')\n",
    "    myCentroids, ClustDist = KMeansr(dataMat, 10)\n",
    "    print(myCentroids)\n",
    "    show(dataMat, 10, myCentroids, ClustDist)\n",
    "\n",
    "if __name__ == '__main__':\n",
    "    main()"
   ]
  },
  {
   "cell_type": "code",
   "execution_count": null,
   "metadata": {
    "collapsed": false
   },
   "outputs": [],
   "source": [
    "\n"
   ]
  },
  {
   "cell_type": "code",
   "execution_count": null,
   "metadata": {
    "collapsed": false
   },
   "outputs": [
    {
     "name": "stdout",
     "output_type": "stream",
     "text": [
      "Extracting ../data/fashion/train-images-idx3-ubyte.gz\n",
      "Extracting ../data/fashion/train-labels-idx1-ubyte.gz\n",
      "Extracting ../data/fashion/t10k-images-idx3-ubyte.gz\n",
      "Extracting ../data/fashion/t10k-labels-idx1-ubyte.gz\n",
      "INFO:tensorflow:Constructing forest with params = \n",
      "INFO:tensorflow:{'num_trees': 10, 'max_nodes': 1000, 'bagging_fraction': 1.0, 'feature_bagging_fraction': 1.0, 'num_splits_to_consider': 784, 'max_fertile_nodes': 500, 'split_after_samples': 250, 'min_split_samples': 5, 'valid_leaf_threshold': 1, 'dominate_method': 'bootstrap', 'dominate_fraction': 0.99, 'num_classes': 10, 'num_features': 784, 'bagged_num_features': 784, 'bagged_features': None, 'regression': False, 'num_outputs': 1, 'num_output_columns': 11, 'split_initializations_per_input': 3, 'base_random_seed': 0}\n",
      "INFO:tensorflow:training graph for tree: 0\n",
      "INFO:tensorflow:training graph for tree: 1\n",
      "INFO:tensorflow:training graph for tree: 2\n",
      "INFO:tensorflow:training graph for tree: 3\n",
      "INFO:tensorflow:training graph for tree: 4\n",
      "INFO:tensorflow:training graph for tree: 5\n",
      "INFO:tensorflow:training graph for tree: 6\n",
      "INFO:tensorflow:training graph for tree: 7\n",
      "INFO:tensorflow:training graph for tree: 8\n",
      "INFO:tensorflow:training graph for tree: 9\n"
     ]
    }
   ],
   "source": [
    "from __future__ import print_function\n",
    "\n",
    "import tensorflow as tf\n",
    "from tensorflow.contrib.tensor_forest.python import tensor_forest\n",
    "\n",
    "import os\n",
    "os.environ[\"CUDA_VISIBLE_DEVICES\"] = \"\"\n",
    "\n",
    "#输入数据\n",
    "from tensorflow.examples.tutorials.mnist import input_data\n",
    "mnist = input_data.read_data_sets(\"../data/fashion\", one_hot=False)\n",
    "\n",
    "\n",
    "# 参数\n",
    "# Parameters\n",
    "num_steps = 100 # Total steps to train\n",
    "batch_size = 1024# The number of samples per batch\n",
    "num_classes = 10 # The 10 digits\n",
    "num_features = 784 # Each image is 28x28 pixels\n",
    "num_trees = 10\n",
    "max_nodes = 1000\n",
    "\n",
    "# 输入和目标数据\n",
    "X = tf.placeholder(tf.float32, shape=[None, 784])\n",
    "# 对于随机森林，标签必须是整数(类id)\n",
    "Y = tf.placeholder(tf.int32, shape=[None])\n",
    "\n",
    "# Random Forest Parameters\n",
    "hparams = tensor_forest.ForestHParams(num_classes=num_classes,\n",
    "                                      num_features=num_features,\n",
    "                                      num_trees=num_trees,\n",
    "                                      max_nodes=max_nodes).fill()\n",
    "\n",
    "forest_graph = tensor_forest.RandomForestGraphs(hparams)\n",
    "train_op = forest_graph.training_graph(X, Y)\n",
    "loss_op = forest_graph.training_loss(X, Y)\n",
    "\n",
    "# 测量的精确度\n",
    "infer_op = forest_graph.inference_graph(X)\n",
    "correct_prediction = tf.equal(tf.argmax(infer_op, 1), tf.cast(Y, tf.int64))#tf.equal(A, B)是对比这两个矩阵或者向量的相等的元素，如果是相等的那就返回True，反正返回False，返回的值的矩阵维度和A是一样的\n",
    "accuracy_op = tf.reduce_mean(tf.cast(correct_prediction, tf.float32)) #tf.cast是类型转换函数  tf.reduce_mean()是求平均值\n",
    "\n",
    "# 启动会话\n",
    "sess = tf.Session()\n",
    "# 运行初始化\n",
    "sess.run(tf.global_variables_initializer())\n",
    "# 训练\n",
    "for i in range(1, num_steps + 1):\n",
    "    # 准备数据\n",
    "    # 获取下一批MNIST数据(只需要图像，不需要标签)\n",
    "    batch_x, batch_y = mnist.train.next_batch(batch_size)\n",
    "    _, l = sess.run([train_op, loss_op], feed_dict={X: batch_x, Y: batch_y})\n",
    "    if i in range(num_steps):\n",
    "        acc = sess.run(accuracy_op, feed_dict={X: batch_x, Y: batch_y})\n",
    "        print('Step %i, 损失 %f, Acc: %f,' % (i, l, acc))\n",
    "# 测试模板\n",
    "test_x, test_y = mnist.test.images, mnist.test.labels\n",
    "print(\"Test Accuracy:\", sess.run(accuracy_op, feed_dict={X: test_x, Y: test_y}))"
   ]
  },
  {
   "cell_type": "code",
   "execution_count": null,
   "metadata": {
    "collapsed": true
   },
   "outputs": [],
   "source": []
  }
 ],
 "metadata": {
  "kernelspec": {
   "display_name": "Python 3",
   "language": "python",
   "name": "python3"
  },
  "language_info": {
   "codemirror_mode": {
    "name": "ipython",
    "version": 3
   },
   "file_extension": ".py",
   "mimetype": "text/x-python",
   "name": "python",
   "nbconvert_exporter": "python",
   "pygments_lexer": "ipython3",
   "version": "3.6.0"
  }
 },
 "nbformat": 4,
 "nbformat_minor": 2
}
