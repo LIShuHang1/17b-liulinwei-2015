{
 "cells": [
  {
   "cell_type": "code",
   "execution_count": 16,
   "metadata": {
    "collapsed": false,
    "deletable": true,
    "editable": true
   },
   "outputs": [
    {
     "name": "stdout",
     "output_type": "stream",
     "text": [
      "Extracting ../data/fashion/train-images-idx3-ubyte.gz\n",
      "Extracting ../data/fashion/train-labels-idx1-ubyte.gz\n",
      "Extracting ../data/fashion/t10k-images-idx3-ubyte.gz\n",
      "Extracting ../data/fashion/t10k-labels-idx1-ubyte.gz\n",
      "WARNING:tensorflow:From /home/linwei/.virtualenvs/jupyter_env3/lib/python3.6/site-packages/tensorflow/python/util/tf_should_use.py:175: initialize_all_variables (from tensorflow.python.ops.variables) is deprecated and will be removed after 2017-03-02.\n",
      "Instructions for updating:\n",
      "Use `tf.global_variables_initializer` instead.\n",
      "预测是： 0 , 实际是： 0\n",
      "预测是： 1 , 实际是： 1\n",
      "预测是： 9 , 实际是： 9\n",
      "预测是： 8 , 实际是： 8\n",
      "预测是： 8 , 实际是： 8\n",
      "预测是： 5 , 实际是： 5\n",
      "预测是： 1 , 实际是： 1\n",
      "预测是： 1 , 实际是： 1\n",
      "预测是： 0 , 实际是： 6\n",
      "预测是： 3 , 实际是： 3\n",
      "精确度： 0.9\n"
     ]
    }
   ],
   "source": [
    "__author__ = 'freedom'\n",
    "import tensorflow as tf\n",
    "import numpy as np\n",
    "\n",
    "#加载数据\n",
    "def load_data():\n",
    "    from tensorflow.examples.tutorials.mnist import input_data\n",
    "    data = input_data.read_data_sets('../data/fashion',one_hot=True)\n",
    "    return data\n",
    "#KNN算法\n",
    "def KNN(data):\n",
    "    train_x,train_y = data.train.next_batch(5000)\n",
    "    test_x,test_y = data.train.next_batch(200)\n",
    "    # placeholder在tensorflow中类似于函数参数，运行时必须传入值\n",
    "    xtr = tf.placeholder(tf.float32,[None,784])\n",
    "    xte = tf.placeholder(tf.float32,[784])\n",
    "    # 距离公式\n",
    "    distance = tf.sqrt(tf.reduce_sum(tf.pow(tf.add(xtr,tf.negative(xte)),2),reduction_indices=1))\n",
    "\n",
    "    pred = tf.argmin(distance,0)\n",
    "    # 变量初始化\n",
    "    init = tf.initialize_all_variables()\n",
    "    sess = tf.Session()\n",
    "    sess.run(init)\n",
    "\n",
    "    right = 0 \n",
    "    \n",
    "    for i in range(10):\n",
    "        ansIndex = sess.run(pred,{xtr:train_x,xte:test_x[i,:]})\n",
    "\n",
    "        print('预测是：',np.argmax(train_y[ansIndex]),',','实际是：',np.argmax(test_y[i]))\n",
    "        f = open('knn.txt', 'a')\n",
    "        f.write('预测是：')\n",
    "        f.write(str(np.argmax(train_y[ansIndex]))) \n",
    "        f.write('实际是：') \n",
    "        f.write(str(np.argmax(test_y[i]))) \n",
    "        f.write('\\n') \n",
    "    \n",
    "        if np.argmax(test_y[i]) == np.argmax(train_y[ansIndex]):\n",
    "            right += 1.0\n",
    "    accracy = right/10.0\n",
    "    f.write('精确度：' + str(accracy)) \n",
    "    print ('精确度：',accracy)\n",
    "                \n",
    "    f.close() \n",
    "\n",
    "if __name__ == \"__main__\":\n",
    "    data_out = load_data()\n",
    "    KNN(data_out)\n",
    "\n"
   ]
  },
  {
   "cell_type": "code",
   "execution_count": null,
   "metadata": {
    "collapsed": true,
    "deletable": true,
    "editable": true
   },
   "outputs": [],
   "source": []
  }
 ],
 "metadata": {
  "kernelspec": {
   "display_name": "Python 3",
   "language": "python",
   "name": "python3"
  },
  "language_info": {
   "codemirror_mode": {
    "name": "ipython",
    "version": 3
   },
   "file_extension": ".py",
   "mimetype": "text/x-python",
   "name": "python",
   "nbconvert_exporter": "python",
   "pygments_lexer": "ipython3",
   "version": "3.6.0"
  }
 },
 "nbformat": 4,
 "nbformat_minor": 2
}
