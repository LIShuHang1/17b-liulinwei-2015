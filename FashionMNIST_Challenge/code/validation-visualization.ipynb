{
 "cells": [
  {
   "cell_type": "code",
   "execution_count": 1,
   "metadata": {
    "collapsed": false,
    "deletable": true,
    "editable": true
   },
   "outputs": [
    {
     "name": "stdout",
     "output_type": "stream",
     "text": [
      "9\n"
     ]
    },
    {
     "data": {
      "image/png": "[encoded data removed]",
      "text/plain": [
       "<matplotlib.figure.Figure at 0x7f13f3760be0>"
      ]
     },
     "metadata": {},
     "output_type": "display_data"
    },
    {
     "name": "stdout",
     "output_type": "stream",
     "text": [
      "0\n"
     ]
    },
    {
     "data": {
      "image/png": "[encoded data removed]",
      "text/plain": [
       "<matplotlib.figure.Figure at 0x7f13f3743358>"
      ]
     },
     "metadata": {},
     "output_type": "display_data"
    },
    {
     "name": "stdout",
     "output_type": "stream",
     "text": [
      "0\n"
     ]
    },
    {
     "data": {
      "image/png": "[encoded data removed]",
      "text/plain": [
       "<matplotlib.figure.Figure at 0x7f13f018f518>"
      ]
     },
     "metadata": {},
     "output_type": "display_data"
    },
    {
     "name": "stdout",
     "output_type": "stream",
     "text": [
      "3\n"
     ]
    },
    {
     "data": {
      "image/png": "[encoded data removed]",
      "text/plain": [
       "<matplotlib.figure.Figure at 0x7f13f0160780>"
      ]
     },
     "metadata": {},
     "output_type": "display_data"
    }
   ],
   "source": [
    "# 实现validation.tfrecords文件数据可视化\n",
    "\n",
    "#导入模块\n",
    "from scipy import misc\n",
    "import tensorflow as tf\n",
    "import numpy as np\n",
    "import scipy.io as sio\n",
    "import matplotlib.pyplot as plt\n",
    "from PIL import Image\n",
    "\n",
    "#\n",
    "fileNameQue = tf.train.string_input_producer([\"validation.tfrecords\"])\n",
    "\n",
    "reader = tf.TFRecordReader()\n",
    "key,value = reader.read(fileNameQue)\n",
    "\n",
    "features = tf.parse_single_example(value,features={ 'label': tf.FixedLenFeature([], tf.int64),\n",
    "                                           'image_raw' : tf.FixedLenFeature([], tf.string)})\n",
    "\n",
    "image = tf.decode_raw(features[\"image_raw\"], tf.float32)\n",
    "image=tf.reshape(image,[28,28])\n",
    "\n",
    "label = tf.cast(features['label'], tf.int32)\n",
    "init = tf.global_variables_initializer()\n",
    "\n",
    "with tf.Session() as sess:\n",
    "\n",
    "    sess.run(init)\n",
    "\n",
    "    coord = tf.train.Coordinator()\n",
    "    threads = tf.train.start_queue_runners(sess=sess, coord=coord)\n",
    "    # 可根据具体需求显示出一定数量的图片\n",
    "    for i in range(4):\n",
    "        img, lab = sess.run([image, label])\n",
    "        print(lab)\n",
    "        result = Image.fromarray(img) \n",
    "        # 控制显示图片大小   \n",
    "        plt.figure(figsize=(3,2)) #其中figsize里的参数可以---------查询？\n",
    "        # 图片显示，可以添加cmap=\"gray\"然后图片呈灰色\n",
    "        plt.imshow(img)       #  plt.imshow(img,cmap=\"gray\")\n",
    "        plt.show()\n",
    "        \n",
    "        img = np.array(img, dtype='uint8')\n",
    "        result=Image.fromarray(img)\n",
    "\n",
    "        # 将显示出来的照片存储在test_images文件下\n",
    "        result.save('./test_images/'+str(i) +'_'+str(lab)+ '.png', 'png')\n",
    "\n",
    "    coord.request_stop()\n",
    "    coord.join(threads)"
   ]
  },
  {
   "cell_type": "code",
   "execution_count": null,
   "metadata": {
    "collapsed": true
   },
   "outputs": [],
   "source": []
  }
 ],
 "metadata": {
  "kernelspec": {
   "display_name": "Python 3",
   "language": "python",
   "name": "python3"
  },
  "language_info": {
   "codemirror_mode": {
    "name": "ipython",
    "version": 3
   },
   "file_extension": ".py",
   "mimetype": "text/x-python",
   "name": "python",
   "nbconvert_exporter": "python",
   "pygments_lexer": "ipython3",
   "version": "3.6.0"
  }
 },
 "nbformat": 4,
 "nbformat_minor": 2
}
